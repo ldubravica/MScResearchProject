{
 "cells": [
  {
   "cell_type": "code",
   "execution_count": 2,
   "metadata": {},
   "outputs": [],
   "source": [
    "import numpy as np\n",
    "import matplotlib.pyplot as plt"
   ]
  },
  {
   "cell_type": "code",
   "execution_count": 3,
   "metadata": {},
   "outputs": [],
   "source": [
    "# entropy = - sum (p log2 p)\n",
    "# p = unique elements / all elements -> uniform distribution\n",
    "\n",
    "def entropy(X):\n",
    "    vals,counts = np.unique(X, return_counts=True,axis=0)\n",
    "    probs = counts / len(X)\n",
    "    return - np.sum(probs * np.log2(probs))\n",
    "\n",
    "# I(X,Y) = H(X) + H(Y) - H(X,Y)\n",
    "\n",
    "def MI(X,Y):\n",
    "    HX = entropy(X)\n",
    "    HY = entropy(Y)\n",
    "    HXY = entropy(np.column_stack((X,Y)))\n",
    "    return HX + HY - HXY"
   ]
  },
  {
   "cell_type": "code",
   "execution_count": 4,
   "metadata": {},
   "outputs": [],
   "source": [
    "# generates 2D bit array of N size and probability >=p of X and Y matching\n",
    "\n",
    "def get_correlated_data(p,N):\n",
    "    X = np.random.randint(0,2,N) # N ints between 0 and 2\n",
    "    Y = np.zeros(N) # N zeroes\n",
    "    for i in range(N):\n",
    "        if np.random.rand() < p: # make Y[i] match X[i] with p probability\n",
    "            Y[i] = X[i]\n",
    "        else: # otherwise set Y[i] to random\n",
    "            Y[i] = np.random.randint(0,2)\n",
    "    return X,Y"
   ]
  },
  {
   "cell_type": "code",
   "execution_count": 5,
   "metadata": {},
   "outputs": [],
   "source": [
    "p_range = np.linspace(0,1,100) # evenly spaced array of 100 values between 0 and 1, inclusive\n",
    "MI_vals = [MI(*get_correlated_data(p,1000)) for p in p_range] # for random 2D bit arrays of size 1000, calculate their MI\n",
    "\n",
    "# * like decoupling the return to fill parameters"
   ]
  },
  {
   "cell_type": "code",
   "execution_count": 6,
   "metadata": {},
   "outputs": [
    {
     "data": {
      "text/plain": [
       "[<matplotlib.lines.Line2D at 0x29eab389090>]"
      ]
     },
     "execution_count": 6,
     "metadata": {},
     "output_type": "execute_result"
    },
    {
     "data": {
      "image/png": "[encoded data removed]",
      "text/plain": [
       "<Figure size 640x480 with 1 Axes>"
      ]
     },
     "metadata": {},
     "output_type": "display_data"
    }
   ],
   "source": [
    "plt.plot(p_range,MI_vals) # as probability of X and Y matching increases, so does their MI"
   ]
  },
  {
   "cell_type": "code",
   "execution_count": 7,
   "metadata": {},
   "outputs": [],
   "source": [
    "from jpype import *\n"
   ]
  },
  {
   "cell_type": "code",
   "execution_count": 8,
   "metadata": {},
   "outputs": [],
   "source": [
    "def start_JVM():\n",
    "    jarLocation = \"infodynamics.jar\" # Java library for information processing\n",
    "    if not isJVMStarted():\n",
    "        startJVM(getDefaultJVMPath(), \"-ea\", \"-Xmx1024m\", \"-Djava.class.path=\" + jarLocation)\n",
    "\n",
    "def calc_mi(a, b): # calculate MI using Java library\n",
    "    start_JVM()\n",
    "    if(len(np.shape(a))==1):\n",
    "        a = a.reshape((-1,1))\n",
    "    if(len(np.shape(b))==1):\n",
    "        b = b.reshape((-1,1))\n",
    "    _,d1 = np.shape(a)\n",
    "    _,d2 = np.shape(b)\n",
    "    mi_calc = JPackage(\"infodynamics.measures.continuous.gaussian\").MutualInfoCalculatorMultiVariateGaussian()\n",
    "    mi_calc.initialise(d1,d2)\n",
    "    mi_calc.setObservations(a.tolist(),b.tolist())\n",
    "    mi_val = mi_calc.computeAverageLocalOfObservations()\n",
    "    return mi_val\n"
   ]
  },
  {
   "cell_type": "code",
   "execution_count": 11,
   "metadata": {},
   "outputs": [
    {
     "ename": "infodynamics.utils.NonPositiveDefiniteMatrixException",
     "evalue": "infodynamics.utils.NonPositiveDefiniteMatrixException: CholeskyDecomposition is only performed on positive-definite matrices. Some reasons for non-positive-definite matrix are listed at http://www2.gsu.edu/~mkteer/npdmatri.html - note: a correlation matrix is non-positive-definite if you have more variables than observations",
     "output_type": "error",
     "traceback": [
      "\u001b[31m---------------------------------------------------------------------------\u001b[39m",
      "\u001b[31mException\u001b[39m                                 Traceback (most recent call last)",
      "\u001b[36mFile \u001b[39m\u001b[32minfodynamics.measures.continuous.MutualInfoMultiVariateCommon.java:0\u001b[39m, in \u001b[36minfodynamics.measures.continuous.MutualInfoMultiVariateCommon.setObservations\u001b[39m\u001b[34m()\u001b[39m\n",
      "\u001b[31mException\u001b[39m: Java Exception",
      "\nThe above exception was the direct cause of the following exception:\n",
      "\u001b[31minfodynamics.utils.NonPositiveDefiniteMatrixException\u001b[39mTraceback (most recent call last)",
      "\u001b[36mCell\u001b[39m\u001b[36m \u001b[39m\u001b[32mIn[11]\u001b[39m\u001b[32m, line 6\u001b[39m\n\u001b[32m      3\u001b[39m     data = np.random.multivariate_normal([\u001b[32m0\u001b[39m,\u001b[32m0\u001b[39m],cov,N)\n\u001b[32m      4\u001b[39m     \u001b[38;5;28;01mreturn\u001b[39;00m data[:,\u001b[32m0\u001b[39m],data[:,\u001b[32m1\u001b[39m]\n\u001b[32m----> \u001b[39m\u001b[32m6\u001b[39m mi_vals_gauss = [\u001b[43mcalc_mi\u001b[49m\u001b[43m(\u001b[49m\u001b[43m*\u001b[49m\u001b[43mgen_normal_data\u001b[49m\u001b[43m(\u001b[49m\u001b[32;43m1000\u001b[39;49m\u001b[43m,\u001b[49m\u001b[43mp\u001b[49m\u001b[43m)\u001b[49m\u001b[43m)\u001b[49m \u001b[38;5;28;01mfor\u001b[39;00m p \u001b[38;5;129;01min\u001b[39;00m p_range] \u001b[38;5;66;03m# for normally distributed 2D arrays of size 1000, calculate their MI\u001b[39;00m\n",
      "\u001b[36mCell\u001b[39m\u001b[36m \u001b[39m\u001b[32mIn[8]\u001b[39m\u001b[32m, line 16\u001b[39m, in \u001b[36mcalc_mi\u001b[39m\u001b[34m(a, b)\u001b[39m\n\u001b[32m     14\u001b[39m mi_calc = JPackage(\u001b[33m\"\u001b[39m\u001b[33minfodynamics.measures.continuous.gaussian\u001b[39m\u001b[33m\"\u001b[39m).MutualInfoCalculatorMultiVariateGaussian()\n\u001b[32m     15\u001b[39m mi_calc.initialise(d1,d2)\n\u001b[32m---> \u001b[39m\u001b[32m16\u001b[39m \u001b[43mmi_calc\u001b[49m\u001b[43m.\u001b[49m\u001b[43msetObservations\u001b[49m\u001b[43m(\u001b[49m\u001b[43ma\u001b[49m\u001b[43m.\u001b[49m\u001b[43mtolist\u001b[49m\u001b[43m(\u001b[49m\u001b[43m)\u001b[49m\u001b[43m,\u001b[49m\u001b[43mb\u001b[49m\u001b[43m.\u001b[49m\u001b[43mtolist\u001b[49m\u001b[43m(\u001b[49m\u001b[43m)\u001b[49m\u001b[43m)\u001b[49m\n\u001b[32m     17\u001b[39m mi_val = mi_calc.computeAverageLocalOfObservations()\n\u001b[32m     18\u001b[39m \u001b[38;5;28;01mreturn\u001b[39;00m mi_val\n",
      "\u001b[31minfodynamics.utils.NonPositiveDefiniteMatrixException\u001b[39m: infodynamics.utils.NonPositiveDefiniteMatrixException: CholeskyDecomposition is only performed on positive-definite matrices. Some reasons for non-positive-definite matrix are listed at http://www2.gsu.edu/~mkteer/npdmatri.html - note: a correlation matrix is non-positive-definite if you have more variables than observations"
     ]
    }
   ],
   "source": [
    "def gen_normal_data(N,corr): # generate N pairs of normally distributed random variables with the given correlation\n",
    "    cov = np.array([[1,corr],[corr,1]])\n",
    "    data = np.random.multivariate_normal([0,0],cov,N)\n",
    "    return data[:,0],data[:,1]\n",
    "\n",
    "mi_vals_gauss = [calc_mi(*gen_normal_data(1000,p)) for p in p_range] # for normally distributed 2D arrays of size 1000, calculate their MI"
   ]
  },
  {
   "cell_type": "code",
   "execution_count": null,
   "metadata": {},
   "outputs": [
    {
     "data": {
      "text/plain": [
       "[<matplotlib.lines.Line2D at 0x1e7bdae2210>]"
      ]
     },
     "execution_count": 9,
     "metadata": {},
     "output_type": "execute_result"
    },
    {
     "data": {
      "image/png": "[encoded data removed]",
      "text/plain": [
       "<Figure size 640x480 with 1 Axes>"
      ]
     },
     "metadata": {},
     "output_type": "display_data"
    }
   ],
   "source": [
    "plt.plot(p_range[:-1],mi_vals_gauss[:-1])"
   ]
  },
  {
   "cell_type": "code",
   "execution_count": 12,
   "metadata": {},
   "outputs": [],
   "source": [
    "from lz76 import LZ76\n",
    "\n",
    "# calculate entropy rate for a binary string\n",
    "\n",
    "def calc_er(X):\n",
    "    lz = LZ76(X) # Compute Lempel-Ziv complexity\n",
    "    er = lz*np.log2(len(X))/len(X) # Normalize using log2(length)\n",
    "    return er"
   ]
  },
  {
   "cell_type": "code",
   "execution_count": 13,
   "metadata": {},
   "outputs": [],
   "source": [
    "# computes the average entropy rate over non-overlapping windows of a binary sequence X\n",
    "\n",
    "def get_er_windows(X,window_size):\n",
    "    er_vals = [] # List to store entropy rates of each window\n",
    "    for i in range(0,len(X),window_size): # Iterate over X in steps of window_size\n",
    "        er_vals.append(calc_er(X[i:i+window_size])) # Compute entropy rate for each window\n",
    "    return np.mean(er_vals) # Return the average entropy rate"
   ]
  },
  {
   "cell_type": "code",
   "execution_count": 14,
   "metadata": {},
   "outputs": [
    {
     "data": {
      "text/plain": [
       "[<matplotlib.lines.Line2D at 0x29ecd9a7110>]"
      ]
     },
     "execution_count": 14,
     "metadata": {},
     "output_type": "execute_result"
    },
    {
     "data": {
      "image/png": "[encoded data removed]",
      "text/plain": [
       "<Figure size 640x480 with 1 Axes>"
      ]
     },
     "metadata": {},
     "output_type": "display_data"
    }
   ],
   "source": [
    "X = np.random.randint(0,2,100000) # Generates a random binary sequence of size 100000\n",
    "win_sizes = np.arange(100,1500,100) # Define window sizes from 100 to 1400 in steps of 100\n",
    "er_vals = [get_er_windows(X,win_size) for win_size in win_sizes] # Compute entropy rate for each window size\n",
    "plt.plot(win_sizes,er_vals) # Plot window size vs. entropy rate\n",
    "\n",
    "# As the window size increases, the entropy rate stabilizes\n",
    "# Larger window size > less surprise\n",
    "\n",
    "# Purely random X should have ER = 1\n",
    "# Structured sequence's ER would decrease for larger windows"
   ]
  },
  {
   "cell_type": "markdown",
   "metadata": {},
   "source": [
    "# Linear Dependencies"
   ]
  },
  {
   "cell_type": "code",
   "execution_count": null,
   "metadata": {},
   "outputs": [],
   "source": [
    "import tableprint as tp"
   ]
  },
  {
   "cell_type": "code",
   "execution_count": null,
   "metadata": {},
   "outputs": [],
   "source": [
    "# Generate 10 values per array of N(0, 0.2)\n",
    "\n",
    "X = np.random.normal(0,0.2,10).tolist()\n",
    "Y = np.random.normal(0,0.2,10).tolist()\n",
    "Z = np.random.normal(0,0.2,10).tolist()\n",
    "\n",
    "# Coupled stochastic time series with autoregressive and cross-variable dependencies\n",
    "\n",
    "for i in range(10000):\n",
    "    X.append(0.5*X[-1] + 0.2*Y[-4] + np.random.normal(0,0.1))\n",
    "    Y.append(-0.5*Y[-3] + 0.1*Z[-2] + np.random.normal(0,0.1))\n",
    "    Z.append(0.6*X[-5] + np.random.normal(0,0.1))"
   ]
  },
  {
   "cell_type": "code",
   "execution_count": null,
   "metadata": {},
   "outputs": [],
   "source": [
    "JX = JArray(JDouble, 1)(X)\n",
    "JY = JArray(JDouble, 1)(Y)\n",
    "JZ = JArray(JDouble, 1)(Z)\n",
    "\n",
    "def calc_te_gaussian(src, dest, delay):\n",
    "    calcClass = JPackage(\"infodynamics.measures.continuous.gaussian\").TransferEntropyCalculatorGaussian\n",
    "    calc = calcClass()\n",
    "    calc.setProperty(\"DELAY\", str(delay))\n",
    "    calc.initialise()\n",
    "    calc.setObservations(src, dest)\n",
    "    result = calc.computeAverageLocalOfObservations()\n",
    "    return result\n",
    "\n",
    "def calc_te_kraskov(src, dest, delay):\n",
    "    calcClass = JPackage(\"infodynamics.measures.continuous.kraskov\").TransferEntropyCalculatorKraskov\n",
    "    calc = calcClass()\n",
    "    calc.setProperty(\"DELAY\", str(delay))\n",
    "    calc.initialise()\n",
    "    calc.setObservations(src, dest)\n",
    "    result = calc.computeAverageLocalOfObservations()\n",
    "    return result\n",
    "\n",
    "def calc_te_cond_gaussian(src, dest, cond, delay, cond_delay):\n",
    "    calcClass = JPackage(\"infodynamics.measures.continuous.gaussian\").ConditionalTransferEntropyCalculatorkraskov\n",
    "    calc = calcClass()\n",
    "    calc.setProperty(\"DELAY\", str(delay))\n",
    "    calc.setProperty(\"COND_DELAYS\", str(cond_delay))\n",
    "    calc.initialise()\n",
    "    calc.setObservations(src, dest, cond)\n",
    "    result = calc.computeAverageLocalOfObservations()\n",
    "    return result\n",
    "\n",
    "def calc_te_cond_kraskov(src, dest, cond, delay, cond_delay):\n",
    "    calcClass = JPackage(\"infodynamics.measures.continuous.kraskov\").ConditionalTransferEntropyCalculatorKraskov\n",
    "    calc = calcClass()\n",
    "    calc.setProperty(\"DELAY\", str(delay))\n",
    "    calc.setProperty(\"COND_DELAYS\", str(cond_delay))\n",
    "    calc.initialise()\n",
    "    calc.setObservations(src, dest, cond)\n",
    "    result = calc.computeAverageLocalOfObservations()\n",
    "    return result\n",
    "\n",
    "def format_float(arr):\n",
    "    return np.array([[\"{:.5f}\".format(val) for val in row] for row in arr])"
   ]
  },
  {
   "cell_type": "code",
   "execution_count": null,
   "metadata": {},
   "outputs": [
    {
     "name": "stdout",
     "output_type": "stream",
     "text": [
      "╒══════════════════════════════╕\n",
      "│   Transfer Entropy (Gaussian)│\n",
      "╘══════════════════════════════╛\n",
      "╭─────────┬─────────┬─────────┬─────────╮\n",
      "│   Delay │   X > Y │   Z > Y │   Y > X │\n",
      "├─────────┼─────────┼─────────┼─────────┤\n",
      "│       1 │ 0.00147 │ 0.00002 │ 0.00740 │\n",
      "│       2 │ 0.00136 │ 0.00448 │ 0.00025 │\n",
      "│       3 │ 0.00002 │ 0.00007 │ 0.00000 │\n",
      "│       4 │ 0.00060 │ 0.00013 │ 0.02525 │\n",
      "│       5 │ 0.00059 │ 0.00143 │ 0.00029 │\n",
      "│       6 │ 0.00000 │ 0.00000 │ 0.00001 │\n",
      "│       7 │ 0.00002 │ 0.00000 │ 0.00669 │\n",
      "│       8 │ 0.00005 │ 0.00036 │ 0.00018 │\n",
      "│       9 │ 0.00002 │ 0.00003 │ 0.00001 │\n",
      "╰─────────┴─────────┴─────────┴─────────╯\n"
     ]
    }
   ],
   "source": [
    "XYgaussian = []\n",
    "ZYgaussian = []\n",
    "YXgaussian = []\n",
    "for i in range(9):\n",
    "    XYgaussian.append(calc_te_gaussian(JX,JY,i+1))\n",
    "    ZYgaussian.append(calc_te_gaussian(JZ,JY,i+1))\n",
    "    YXgaussian.append(calc_te_gaussian(JY,JX,i+1))\n",
    "\n",
    "data = [XYgaussian, ZYgaussian, YXgaussian]\n",
    "data = format_float(data)\n",
    "\n",
    "delay_column = ['1', '2', '3', '4', '5', '6', '7', '8', '9']\n",
    "data = np.insert(data, 0, delay_column, axis=0)\n",
    "\n",
    "headers = ['Delay', 'X > Y', 'Z > Y', 'Y > X']\n",
    "\n",
    "tp.banner('Transfer Entropy (Gaussian)')\n",
    "tp.table(list(zip(*data)), headers)"
   ]
  },
  {
   "cell_type": "code",
   "execution_count": null,
   "metadata": {},
   "outputs": [
    {
     "name": "stdout",
     "output_type": "stream",
     "text": [
      "╒═══════════════════════════════════════════════════╕\n",
      "│Conditional Transfer Entropy (Gaussian) (X > Y | Z)│\n",
      "╘═══════════════════════════════════════════════════╛\n",
      "╭──────────────┬──────────────┬──────────────┬──────────────┬──────────────┬──────────────┬──────────────┬──────────────┬──────────────╮\n",
      "│ Delay / Cond │            1 │            2 │            3 │            4 │            5 │            6 │            7 │            8 │\n",
      "├──────────────┼──────────────┼──────────────┼──────────────┼──────────────┼──────────────┼──────────────┼──────────────┼──────────────┤\n",
      "│            1 │      0.00147 │      0.00151 │      0.00146 │      0.00146 │      0.00143 │      0.00147 │      0.00146 │      0.00145 │\n",
      "│            2 │      0.00136 │      0.00136 │      0.00136 │      0.00137 │      0.00136 │      0.00137 │      0.00137 │      0.00132 │\n",
      "│            3 │      0.00002 │      0.00002 │      0.00002 │      0.00002 │      0.00002 │      0.00002 │      0.00002 │      0.00002 │\n",
      "│            4 │      0.00060 │      0.00067 │      0.00060 │      0.00061 │      0.00062 │      0.00060 │      0.00059 │      0.00058 │\n",
      "│            5 │      0.00059 │      0.00066 │      0.00059 │      0.00060 │      0.00059 │      0.00060 │      0.00060 │      0.00059 │\n",
      "│            6 │      0.00000 │      0.00000 │      0.00000 │      0.00000 │      0.00000 │      0.00000 │      0.00000 │      0.00000 │\n",
      "│            7 │      0.00002 │      0.00001 │      0.00002 │      0.00002 │      0.00003 │      0.00002 │      0.00002 │      0.00002 │\n",
      "│            8 │      0.00005 │      0.00003 │      0.00005 │      0.00004 │      0.00006 │      0.00005 │      0.00005 │      0.00005 │\n",
      "╰──────────────┴──────────────┴──────────────┴──────────────┴──────────────┴──────────────┴──────────────┴──────────────┴──────────────╯\n"
     ]
    }
   ],
   "source": [
    "XYcondZgaussian = []\n",
    "ZYcondXgaussian = []\n",
    "YXcondZgaussian = []\n",
    "for d in range(8):\n",
    "    tempXYcondZ = []\n",
    "    tempZYcondX = []\n",
    "    tempYXcondZ = []\n",
    "    for cd in range(8):\n",
    "        tempXYcondZ.append(calc_te_cond_gaussian(JX,JY,JZ,d+1,cd+1))\n",
    "        tempZYcondX.append(calc_te_cond_gaussian(JZ,JY,JX,d+1,cd+1))\n",
    "        tempYXcondZ.append(calc_te_cond_gaussian(JY,JX,JZ,d+1,cd+1))\n",
    "    XYcondZgaussian.append(tempXYcondZ)\n",
    "    ZYcondXgaussian.append(tempZYcondX)\n",
    "    YXcondZgaussian.append(tempYXcondZ)\n",
    "\n",
    "dataXYcondZgaussian = format_float(XYcondZgaussian)\n",
    "dataZYcondXgaussian = format_float(ZYcondXgaussian)\n",
    "dataYXcondZgaussian = format_float(YXcondZgaussian)\n",
    "\n",
    "delay_column = ['1', '2', '3', '4', '5', '6', '7', '8']\n",
    "dataXYcondZgaussian = np.insert(dataXYcondZgaussian, 0, delay_column, axis=1)\n",
    "dataZYcondXgaussian = np.insert(dataZYcondXgaussian, 0, delay_column, axis=1)\n",
    "dataYXcondZgaussian = np.insert(dataYXcondZgaussian, 0, delay_column, axis=1)\n",
    "\n",
    "headers = ['Delay / Cond', '1', '2', '3', '4', '5', '6', '7', '8']\n",
    "\n",
    "tp.banner('Conditional Transfer Entropy (Gaussian) (X > Y | Z)')\n",
    "tp.table(dataXYcondZgaussian, headers)"
   ]
  },
  {
   "cell_type": "code",
   "execution_count": null,
   "metadata": {},
   "outputs": [
    {
     "name": "stdout",
     "output_type": "stream",
     "text": [
      "╒═══════════════════════════════════════════════════╕\n",
      "│Conditional Transfer Entropy (Gaussian) (Z > Y | X)│\n",
      "╘═══════════════════════════════════════════════════╛\n",
      "╭──────────────┬──────────────┬──────────────┬──────────────┬──────────────┬──────────────┬──────────────┬──────────────┬──────────────╮\n",
      "│ Delay / Cond │            1 │            2 │            3 │            4 │            5 │            6 │            7 │            8 │\n",
      "├──────────────┼──────────────┼──────────────┼──────────────┼──────────────┼──────────────┼──────────────┼──────────────┼──────────────┤\n",
      "│            1 │      0.00002 │      0.00002 │      0.00002 │      0.00002 │      0.00001 │      0.00002 │      0.00002 │      0.00002 │\n",
      "│            2 │      0.00453 │      0.00448 │      0.00451 │      0.00458 │      0.00457 │      0.00451 │      0.00450 │      0.00450 │\n",
      "│            3 │      0.00007 │      0.00006 │      0.00007 │      0.00007 │      0.00006 │      0.00007 │      0.00008 │      0.00007 │\n",
      "│            4 │      0.00014 │      0.00013 │      0.00013 │      0.00013 │      0.00013 │      0.00013 │      0.00013 │      0.00012 │\n",
      "│            5 │      0.00140 │      0.00141 │      0.00143 │      0.00144 │      0.00143 │      0.00144 │      0.00144 │      0.00146 │\n",
      "│            6 │      0.00000 │      0.00000 │      0.00000 │      0.00000 │      0.00000 │      0.00000 │      0.00000 │      0.00000 │\n",
      "│            7 │      0.00000 │      0.00001 │      0.00000 │      0.00000 │      0.00000 │      0.00000 │      0.00000 │      0.00000 │\n",
      "│            8 │      0.00034 │      0.00032 │      0.00036 │      0.00035 │      0.00035 │      0.00036 │      0.00036 │      0.00036 │\n",
      "╰──────────────┴──────────────┴──────────────┴──────────────┴──────────────┴──────────────┴──────────────┴──────────────┴──────────────╯\n"
     ]
    }
   ],
   "source": [
    "tp.banner('Conditional Transfer Entropy (Gaussian) (Z > Y | X)')\n",
    "tp.table(dataZYcondXgaussian, headers)"
   ]
  },
  {
   "cell_type": "code",
   "execution_count": null,
   "metadata": {},
   "outputs": [
    {
     "name": "stdout",
     "output_type": "stream",
     "text": [
      "╒═══════════════════════════════════════════════════╕\n",
      "│Conditional Transfer Entropy (Gaussian) (Y > X | Z)│\n",
      "╘═══════════════════════════════════════════════════╛\n",
      "╭──────────────┬──────────────┬──────────────┬──────────────┬──────────────┬──────────────┬──────────────┬──────────────┬──────────────╮\n",
      "│ Delay / Cond │            1 │            2 │            3 │            4 │            5 │            6 │            7 │            8 │\n",
      "├──────────────┼──────────────┼──────────────┼──────────────┼──────────────┼──────────────┼──────────────┼──────────────┼──────────────┤\n",
      "│            1 │      0.00740 │      0.00741 │      0.00743 │      0.00744 │      0.00742 │      0.00718 │      0.00743 │      0.00748 │\n",
      "│            2 │      0.00025 │      0.00025 │      0.00025 │      0.00024 │      0.00027 │      0.00028 │      0.00026 │      0.00026 │\n",
      "│            3 │      0.00000 │      0.00000 │      0.00000 │      0.00000 │      0.00000 │      0.00000 │      0.00000 │      0.00000 │\n",
      "│            4 │      0.02524 │      0.02525 │      0.02523 │      0.02525 │      0.02534 │      0.02470 │      0.02542 │      0.02548 │\n",
      "│            5 │      0.00029 │      0.00029 │      0.00029 │      0.00029 │      0.00029 │      0.00029 │      0.00029 │      0.00028 │\n",
      "│            6 │      0.00001 │      0.00001 │      0.00001 │      0.00001 │      0.00001 │      0.00001 │      0.00001 │      0.00001 │\n",
      "│            7 │      0.00669 │      0.00669 │      0.00668 │      0.00669 │      0.00669 │      0.00664 │      0.00669 │      0.00670 │\n",
      "│            8 │      0.00018 │      0.00018 │      0.00018 │      0.00017 │      0.00018 │      0.00018 │      0.00018 │      0.00018 │\n",
      "╰──────────────┴──────────────┴──────────────┴──────────────┴──────────────┴──────────────┴──────────────┴──────────────┴──────────────╯\n"
     ]
    }
   ],
   "source": [
    "tp.banner('Conditional Transfer Entropy (Gaussian) (Y > X | Z)')\n",
    "tp.table(dataYXcondZgaussian, headers)"
   ]
  },
  {
   "cell_type": "markdown",
   "metadata": {},
   "source": [
    "# Complex Dependencies"
   ]
  },
  {
   "cell_type": "code",
   "execution_count": null,
   "metadata": {},
   "outputs": [],
   "source": [
    "X = np.random.normal(0,0.2,10).tolist()\n",
    "Y = np.random.normal(0,0.2,10).tolist()\n",
    "Z = np.random.normal(0,0.2,10).tolist()\n",
    "\n",
    "for i in range(10000):\n",
    "    X.append(0.5*X[-1] + 0.2*Y[-4] +np.random.normal(0,0.1))\n",
    "    Y.append(-0.5*Y[-3] + 0.1*np.exp(Z[-2]) + np.random.normal(0,0.1))\n",
    "    Z.append(0.6*X[-5]**2 + np.random.normal(0,0.1))"
   ]
  },
  {
   "cell_type": "code",
   "execution_count": null,
   "metadata": {},
   "outputs": [],
   "source": [
    "JX = JArray(JDouble, 1)(X)\n",
    "JY = JArray(JDouble, 1)(Y)\n",
    "JZ = JArray(JDouble, 1)(Z)"
   ]
  },
  {
   "cell_type": "code",
   "execution_count": null,
   "metadata": {},
   "outputs": [
    {
     "name": "stdout",
     "output_type": "stream",
     "text": [
      "╒══════════════════════════════╕\n",
      "│    Transfer Entropy (Kraskov)│\n",
      "╘══════════════════════════════╛\n",
      "╭──────────┬──────────┬──────────┬──────────╮\n",
      "│    Delay │    X > Y │    Z > Y │    Y > X │\n",
      "├──────────┼──────────┼──────────┼──────────┤\n",
      "│        1 │ -0.00016 │  0.00552 │  0.00695 │\n",
      "│        2 │ -0.00589 │  0.00966 │ -0.00874 │\n",
      "│        3 │ -0.00343 │ -0.00730 │  0.00409 │\n",
      "│        4 │ -0.00663 │ -0.00770 │  0.02273 │\n",
      "│        5 │ -0.01164 │ -0.00339 │  0.00019 │\n",
      "│        6 │  0.00531 │  0.00768 │ -0.00853 │\n",
      "│        7 │ -0.00401 │  0.00617 │  0.00238 │\n",
      "│        8 │ -0.00318 │  0.00354 │ -0.00221 │\n",
      "│        9 │  0.00563 │  0.00150 │ -0.00400 │\n",
      "╰──────────┴──────────┴──────────┴──────────╯\n"
     ]
    }
   ],
   "source": [
    "XYkraskov = []\n",
    "ZYkraskov = []\n",
    "YXkraskov = []\n",
    "for i in range(9):\n",
    "    XYkraskov.append(calc_te_kraskov(JX,JY,i+1))\n",
    "    ZYkraskov.append(calc_te_kraskov(JZ,JY,i+1))\n",
    "    YXkraskov.append(calc_te_kraskov(JY,JX,i+1))\n",
    "\n",
    "data = [XYkraskov, ZYkraskov, YXkraskov]\n",
    "data = format_float(data)\n",
    "\n",
    "delay_column = ['1', '2', '3', '4', '5', '6', '7', '8', '9']\n",
    "data = np.insert(data, 0, delay_column, axis=0)\n",
    "\n",
    "headers = ['Delay', 'X > Y', 'Z > Y', 'Y > X']\n",
    "\n",
    "tp.banner('Transfer Entropy (Kraskov)')\n",
    "tp.table(list(zip(*data)), headers)"
   ]
  },
  {
   "cell_type": "code",
   "execution_count": null,
   "metadata": {},
   "outputs": [
    {
     "name": "stdout",
     "output_type": "stream",
     "text": [
      "╒══════════════════════════════════════════════════╕\n",
      "│Conditional Transfer Entropy (Kraskov) (X > Y | Z)│\n",
      "╘══════════════════════════════════════════════════╛\n",
      "╭──────────────┬──────────────┬──────────────┬──────────────┬──────────────┬──────────────┬──────────────┬──────────────┬──────────────╮\n",
      "│ Delay / Cond │            1 │            2 │            3 │            4 │            5 │            6 │            7 │            8 │\n",
      "├──────────────┼──────────────┼──────────────┼──────────────┼──────────────┼──────────────┼──────────────┼──────────────┼──────────────┤\n",
      "│            1 │     -0.00269 │     -0.00750 │      0.00206 │     -0.00318 │     -0.00463 │     -0.01710 │     -0.00139 │      0.00618 │\n",
      "│            2 │     -0.00694 │     -0.00103 │      0.00202 │      0.00349 │      0.00487 │      0.00436 │     -0.00311 │      0.00282 │\n",
      "│            3 │     -0.00542 │     -0.00373 │     -0.01000 │     -0.00453 │      0.00278 │      0.00017 │     -0.00432 │     -0.00190 │\n",
      "│            4 │     -0.00347 │     -0.00676 │      0.00502 │     -0.00362 │      0.00470 │      0.00818 │      0.00097 │      0.00561 │\n",
      "│            5 │     -0.00330 │     -0.00651 │      0.00091 │     -0.00194 │     -0.00577 │     -0.01167 │      0.00038 │      0.00115 │\n",
      "│            6 │      0.00242 │     -0.00891 │     -0.00374 │     -0.00176 │     -0.00253 │     -0.00080 │     -0.00074 │      0.00293 │\n",
      "│            7 │     -0.00415 │     -0.01011 │      0.00527 │      0.00388 │      0.00663 │      0.00014 │     -0.01310 │      0.00348 │\n",
      "│            8 │      0.00107 │      0.00395 │      0.01098 │      0.00371 │      0.00041 │     -0.00022 │     -0.01047 │     -0.00525 │\n",
      "╰──────────────┴──────────────┴──────────────┴──────────────┴──────────────┴──────────────┴──────────────┴──────────────┴──────────────╯\n"
     ]
    }
   ],
   "source": [
    "XYcondZkraskov = []\n",
    "ZYcondXkraskov = []\n",
    "for d in range(8):\n",
    "    tempXYcondZ = []\n",
    "    tempZYcondX = []\n",
    "    for cd in range(8):\n",
    "        tempXYcondZ.append(calc_te_cond_kraskov(JX,JY,JZ,d+1,cd+1))\n",
    "        tempZYcondX.append(calc_te_cond_kraskov(JZ,JY,JX,d+1,cd+1))\n",
    "    XYcondZkraskov.append(tempXYcondZ)\n",
    "    ZYcondXkraskov.append(tempZYcondX)\n",
    "\n",
    "dataXYcondZkraskov = format_float(XYcondZkraskov)\n",
    "dataZYcondXkraskov = format_float(ZYcondXkraskov)\n",
    "\n",
    "delay_column = ['1', '2', '3', '4', '5', '6', '7', '8']\n",
    "dataXYcondZkraskov = np.insert(dataXYcondZkraskov, 0, delay_column, axis=1)\n",
    "dataZYcondXkraskov = np.insert(dataZYcondXkraskov, 0, delay_column, axis=1)\n",
    "\n",
    "headers = ['Delay / Cond', '1', '2', '3', '4', '5', '6', '7', '8']\n",
    "\n",
    "tp.banner('Conditional Transfer Entropy (Kraskov) (X > Y | Z)')\n",
    "tp.table(dataXYcondZkraskov, headers)"
   ]
  },
  {
   "cell_type": "code",
   "execution_count": null,
   "metadata": {},
   "outputs": [
    {
     "name": "stdout",
     "output_type": "stream",
     "text": [
      "╒══════════════════════════════════════════════════╕\n",
      "│Conditional Transfer Entropy (Kraskov) (Z > Y | X)│\n",
      "╘══════════════════════════════════════════════════╛\n",
      "╭──────────────┬──────────────┬──────────────┬──────────────┬──────────────┬──────────────┬──────────────┬──────────────┬──────────────╮\n",
      "│ Delay / Cond │            1 │            2 │            3 │            4 │            5 │            6 │            7 │            8 │\n",
      "├──────────────┼──────────────┼──────────────┼──────────────┼──────────────┼──────────────┼──────────────┼──────────────┼──────────────┤\n",
      "│            1 │     -0.00611 │     -0.01266 │     -0.00858 │     -0.00636 │     -0.00013 │      0.00351 │     -0.00796 │     -0.00008 │\n",
      "│            2 │     -0.00263 │      0.00182 │      0.00341 │     -0.00411 │      0.00268 │     -0.00194 │     -0.00271 │      0.01050 │\n",
      "│            3 │      0.00044 │     -0.00080 │     -0.00954 │      0.00158 │      0.00386 │     -0.00549 │      0.00455 │      0.01041 │\n",
      "│            4 │     -0.00028 │      0.00074 │     -0.00321 │     -0.00220 │      0.00460 │     -0.00259 │      0.00181 │      0.00448 │\n",
      "│            5 │     -0.00224 │      0.00479 │      0.00181 │      0.00382 │     -0.00184 │      0.00143 │      0.00544 │     -0.00162 │\n",
      "│            6 │     -0.01826 │      0.00230 │     -0.00094 │      0.00651 │     -0.01007 │     -0.00305 │     -0.00218 │     -0.00187 │\n",
      "│            7 │     -0.00081 │     -0.00287 │     -0.00149 │      0.00114 │      0.00532 │     -0.00030 │     -0.01137 │     -0.00865 │\n",
      "│            8 │      0.00405 │      0.00173 │      0.00126 │      0.00659 │      0.00674 │      0.00619 │      0.00363 │     -0.00454 │\n",
      "╰──────────────┴──────────────┴──────────────┴──────────────┴──────────────┴──────────────┴──────────────┴──────────────┴──────────────╯\n"
     ]
    }
   ],
   "source": [
    "tp.banner('Conditional Transfer Entropy (Kraskov) (Z > Y | X)')\n",
    "tp.table(dataZYcondXkraskov, headers)"
   ]
  }
 ],
 "metadata": {
  "kernelspec": {
   "display_name": "Python 3",
   "language": "python",
   "name": "python3"
  },
  "language_info": {
   "codemirror_mode": {
    "name": "ipython",
    "version": 3
   },
   "file_extension": ".py",
   "mimetype": "text/x-python",
   "name": "python",
   "nbconvert_exporter": "python",
   "pygments_lexer": "ipython3",
   "version": "3.13.2"
  }
 },
 "nbformat": 4,
 "nbformat_minor": 2
}
